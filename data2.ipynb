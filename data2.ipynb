{
 "metadata": {
  "name": "data2"
 },
 "nbformat": 3,
 "nbformat_minor": 0,
 "worksheets": [
  {
   "cells": [
    {
     "cell_type": "heading",
     "level": 2,
     "metadata": {},
     "source": "homework-02: recent-quakes"
    },
    {
     "cell_type": "heading",
     "level": 3,
     "metadata": {},
     "source": "step 1"
    },
    {
     "cell_type": "heading",
     "level": 4,
     "metadata": {},
     "source": "import packages and earthquake data"
    },
    {
     "cell_type": "code",
     "collapsed": false,
     "input": "import urllib\nimport json\nfrom pandas import read_csv",
     "language": "python",
     "metadata": {},
     "outputs": [],
     "prompt_number": 82
    },
    {
     "cell_type": "code",
     "collapsed": false,
     "input": "import pandas as pd\nfrom time import gmtime, strftime, strptime, ctime\nfrom cPickle import load, dump\nfrom pprint import pprint\nfrom datetime import date\nfrom datetime import datetime",
     "language": "python",
     "metadata": {},
     "outputs": [],
     "prompt_number": 83
    },
    {
     "cell_type": "code",
     "collapsed": false,
     "input": "#Locate earthquake data of interest from the USGS website: http://earthquake.usgs.gov/earthquakes/feed/v1.0/geojson.php\n\nURL_45_WEEK = 'http://earthquake.usgs.gov/earthquakes/feed/v1.0/summary/4.5_week.geojson' # earthquake data of magnitude 4.5+ that's been updated in the past 7 days\nURL_1_WEEK = 'http://earthquake.usgs.gov/earthquakes/feed/v1.0/summary/1.0_week.geojson' # earthquake data of magnitude 1.0+ that's been updated in the past 7 days\nURL_1_HOUR = 'http://earthquake.usgs.gov/earthquakes/feed/v1.0/summary/1.0_hour.geojson' # earthquake data of magnitude 1.0+ that's been updated in the past hour\n\ndata = json.loads(urllib.urlopen(URL_1_WEEK).read()) # earthquake data of magnitude 1.0+, week increment",
     "language": "python",
     "metadata": {},
     "outputs": [],
     "prompt_number": 84
    },
    {
     "cell_type": "heading",
     "level": 3,
     "metadata": {},
     "source": "step 2"
    },
    {
     "cell_type": "heading",
     "level": 4,
     "metadata": {},
     "source": "produce a dataframe of earthquake data"
    },
    {
     "cell_type": "code",
     "collapsed": false,
     "input": "dataframe = pd.DataFrame(data.items())\ndataframe",
     "language": "python",
     "metadata": {},
     "outputs": [
      {
       "html": "<div style=\"max-height:1000px;max-width:1500px;overflow:auto;\">\n<table border=\"1\" class=\"dataframe\">\n  <thead>\n    <tr style=\"text-align: right;\">\n      <th></th>\n      <th>0</th>\n      <th>1</th>\n    </tr>\n  </thead>\n  <tbody>\n    <tr>\n      <th>0</th>\n      <td>     type</td>\n      <td>                                 FeatureCollection</td>\n    </tr>\n    <tr>\n      <th>1</th>\n      <td> features</td>\n      <td> [{u'geometry': {u'type': u'Point', u'coordinat...</td>\n    </tr>\n    <tr>\n      <th>2</th>\n      <td>     bbox</td>\n      <td> [-179.4843, -56.6339, 0, 179.0595, 66.7659, 58...</td>\n    </tr>\n    <tr>\n      <th>3</th>\n      <td> metadata</td>\n      <td> {u'status': 200, u'count': 1064, u'title': u'U...</td>\n    </tr>\n  </tbody>\n</table>\n</div>",
       "output_type": "pyout",
       "prompt_number": 85,
       "text": "          0                                                  1\n0      type                                  FeatureCollection\n1  features  [{u'geometry': {u'type': u'Point', u'coordinat...\n2      bbox  [-179.4843, -56.6339, 0, 179.0595, 66.7659, 58...\n3  metadata  {u'status': 200, u'count': 1064, u'title': u'U..."
      }
     ],
     "prompt_number": 85
    },
    {
     "cell_type": "code",
     "collapsed": false,
     "input": "earthquakes = dataframe[1][1]\nanEarthquake = earthquakes[1]\nprint earthquakes[1]",
     "language": "python",
     "metadata": {},
     "outputs": [
      {
       "output_type": "stream",
       "stream": "stdout",
       "text": "{u'geometry': {u'type': u'Point', u'coordinates': [-150.5827, 63.0142, 94.1]}, u'type': u'Feature', u'properties': {u'rms': 0.57, u'code': u'10828106', u'cdi': None, u'sources': u',ak,', u'nst': None, u'tz': -480, u'title': u'M 1.5 - 80km NNW of Talkeetna, Alaska', u'magType': u'Ml', u'detail': u'http://earthquake.usgs.gov/earthquakes/feed/v1.0/detail/ak10828106.geojson', u'sig': 35, u'net': u'ak', u'type': u'earthquake', u'status': u'AUTOMATIC', u'updated': 1382428223865, u'felt': None, u'alert': None, u'dmin': None, u'mag': 1.5, u'gap': None, u'types': u',general-link,geoserve,nearby-cities,origin,tectonic-summary,', u'url': u'http://earthquake.usgs.gov/earthquakes/eventpage/ak10828106', u'ids': u',ak10828106,', u'tsunami': None, u'place': u'80km NNW of Talkeetna, Alaska', u'time': 1382427921000, u'mmi': None}, u'id': u'ak10828106'}\n"
      }
     ],
     "prompt_number": 86
    },
    {
     "cell_type": "code",
     "collapsed": false,
     "input": "now = datetime.now()\ntimeStr = str(now.hour) + \":\" + str(now.minute) + \":\" + str(now.second)\ntimeZone = 'PST'\nname = 'earthquakeData'+ \"_\" + str(date.today()) + \"_\" + timeStr + \"_\" + timeZone + '.dict'\n\ndef getEarthquakeFilename():\n    return name",
     "language": "python",
     "metadata": {},
     "outputs": [],
     "prompt_number": 87
    },
    {
     "cell_type": "code",
     "collapsed": false,
     "input": "def usgsTimeExtraction(earthquake, humanReadable = True):\n    time = earthquake['properties']['time']\n    if humanReadable:\n        usgsTimeConversion(time)\n    return time",
     "language": "python",
     "metadata": {},
     "outputs": [],
     "prompt_number": 88
    },
    {
     "cell_type": "code",
     "collapsed": false,
     "input": "def usgsTimeConversion(time):\n    humanReadableTime = gmtime(float(str(time)[0:10]))\n    return strftime(\"%a %b %d %H:%M:%S %Y\", humanReadableTime)",
     "language": "python",
     "metadata": {},
     "outputs": [],
     "prompt_number": 89
    },
    {
     "cell_type": "code",
     "collapsed": false,
     "input": "def getEarthquakeDataframe(fileLocation = None, isUrl = True, save = False):\n    if fileLocation is None:\n        isUrl = True\n        fileLocation = URL_1_WEEK\n    if isUrl:\n        print fileLocation\n        earthquakeJson = json.loads(urllib.urlopen(URL_1_WEEK).read())\n        if save:\n            with open(name, 'wb') as filename:\n                dump(earthquakeJson, filename)\n    else:\n        with open(name, 'rb') as filename:\n                earthquakeJson = load(filename)\n    earthquakeDataframe = pd.DataFrame(earthquakeJson.items())\n\n    earthquakes = earthquakeDataframe[1][1]\n    srcList = []\n    eqidList = []\n    versionList = []\n    dateTimeList = []\n    latList = []\n    lonList = []\n    magList = []\n    nstList = []\n    regionList = []\n\n    for earthquake in earthquakes:\n        srcList.append(earthquake['properties']['sources'])\n        eqidList.append(earthquake['properties']['code'])\n        versionList.append(1)\n        dateTimeList.append(usgsTimeConversion(earthquake['properties']['time']))\n        latList.append(earthquake['geometry']['coordinates'][1])\n        lonList.append(earthquake['geometry']['coordinates'][0])\n        magList.append(earthquake['properties']['mag'])\n        nstList.append(earthquake['properties']['nst'])\n        regionList.append(earthquake['properties']['place'])\n\n    reducedEarthquakeData = {\n        'Source': srcList,\n        'Eqid': eqidList,\n        'Version': versionList,\n        'Datetime': dateTimeList,\n        'Lat': latList,\n        'Lon': lonList,\n        'Magnitude': magList,\n        'NST': nstList,\n        'Region': regionList\n    }\n    \n    reducedEarthquakeDataframe = pd.DataFrame(reducedEarthquakeData)\n    return reducedEarthquakeDataframe\n\n# <codecell>\nearthquakeDataframe = getEarthquakeDataframe()",
     "language": "python",
     "metadata": {},
     "outputs": [
      {
       "output_type": "stream",
       "stream": "stdout",
       "text": "http://earthquake.usgs.gov/earthquakes/feed/v1.0/summary/1.0_week.geojson\n"
      }
     ],
     "prompt_number": 90
    },
    {
     "cell_type": "heading",
     "level": 3,
     "metadata": {},
     "source": "step 3"
    },
    {
     "cell_type": "heading",
     "level": 4,
     "metadata": {},
     "source": "visualizations"
    },
    {
     "cell_type": "code",
     "collapsed": false,
     "input": "def getEarthquakesFromLocation(earthquakeDataframe, region = \"California\"):\n    \"\"\"When you enter a city or state into this function, it will output a data frame containing that region\"\"\"\n    regionQuakes = earthquakeDataframe[earthquakeDataframe.Region.str.contains(region)]\n    return regionQuakes\n\nalaskaQuakes = getEarthquakesFromLocation(earthquakeDataframe, \"Alaska\")\ncaliQuakes = getEarthquakesFromLocation(earthquakeDataframe)",
     "language": "python",
     "metadata": {},
     "outputs": [],
     "prompt_number": 91
    },
    {
     "cell_type": "code",
     "collapsed": false,
     "input": "# <codecell>\n\nfrom mpl_toolkits.basemap import Basemap\n\nALASKA_DISPLAY = {\n                     'regionName' : \"Alaska\",\n                     'llcrnrlon' : -180,\n                     'llcrnrlat' : 50.,\n                     'urcrnrlon' : -120.,\n                     'urcrnrlat' : 72,\n                     'resolution' : 'l',\n                     'area_thresh' : 1000.,\n                     'projection' : 'merc',\n                     'lat_0' : 62.9540,\n                     'lon_0' : -149.2697\n                }\n\nCALI_DISPLAY = {\n                     'regionName' : \"California\",\n                     'llcrnrlon' : -130,\n                     'llcrnrlat' : 30.,\n                     'urcrnrlon' : -110.,\n                     'urcrnrlat' : 45,\n                     'resolution' : 'l',\n                     'area_thresh' : 1000.,\n                     'projection' : 'merc',\n                     'lat_0' : 36.1700,\n                     'lon_0' : -119.7462\n                }\n\nStateParams = {\n                   'Alaska' : ALASKA_DISPLAY,\n                   'California' : CALI_DISPLAY\n               }\nEARTHQUAKE_DISPLAY_PARAM_FILE = 'earthquake_display_param_file.json'\n\ndef plot_quakes(quakes, display):\n    \"\"\"Plot QUAKES dataframe from the dictionary with DISPLAY parameters\"\"\"\n  #  with open(EARTHQUAKE_DISPLAY_PARAM_FILE, 'rb') as filename:\n  #      earthquakeDisplayParamDict = load(filename)\n  #  if isinstance(display, str):\n  #      displayParams = earthquakeDisplayParamDict[display]\n  #  else:\n    displayParams = display\n   #     earthquakeDisplayParamDict[display['regionName']] = display\n   #     with open(getEarthquakeFilename(), 'wb') as filename:\n   #         dump(earthquakeJson, filename)\n            \n    m = Basemap(llcrnrlon=displayParams['llcrnrlon'],\n                llcrnrlat=displayParams['llcrnrlat'],\n                urcrnrlon=displayParams['urcrnrlon'],\n                urcrnrlat=displayParams['urcrnrlat'],\n                resolution=displayParams['resolution'],\n                area_thresh=displayParams['area_thresh'],\n                projection=displayParams['projection'],\n                lat_0=display['lat_0'],\n                lon_0=display['lon_0'])\n    m.drawcoastlines()\n    m.drawcountries()\n    m.fillcontinents(color='coral',lake_color='blue')\n    m.drawmapboundary(fill_color='aqua')\n    x, y = m(quakes.Lon, quakes.Lat)\n    for lon, lat, size in zip(x, y, quakes.Magnitude):\n        m.plot(lon, lat, 'go', linewidth = size)\n    return m\n\nplot_quakes(caliQuakes, CALI_DISPLAY)",
     "language": "python",
     "metadata": {},
     "outputs": [
      {
       "output_type": "pyout",
       "prompt_number": 92,
       "text": "<mpl_toolkits.basemap.Basemap at 0x5e8b350>"
      },
      {
       "output_type": "display_data",
       "png": "[encoded data removed]"
      }
     ],
     "prompt_number": 92
    },
    {
     "cell_type": "code",
     "collapsed": false,
     "input": "",
     "language": "python",
     "metadata": {},
     "outputs": []
    }
   ],
   "metadata": {}
  }
 ]
}