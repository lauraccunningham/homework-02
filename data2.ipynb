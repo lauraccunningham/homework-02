{
 "metadata": {
  "name": "data"
 },
 "nbformat": 3,
 "nbformat_minor": 0,
 "worksheets": [
  {
   "cells": [
    {
     "cell_type": "heading",
     "level": 2,
     "metadata": {},
     "source": "homework-02: recent-quakes"
    },
    {
     "cell_type": "heading",
     "level": 3,
     "metadata": {},
     "source": "step 1"
    },
    {
     "cell_type": "heading",
     "level": 4,
     "metadata": {},
     "source": "import packages and earthquake data"
    },
    {
     "cell_type": "code",
     "collapsed": false,
     "input": "import urllib\nimport json\nfrom pandas import read_csv",
     "language": "python",
     "metadata": {},
     "outputs": [],
     "prompt_number": 1
    },
    {
     "cell_type": "code",
     "collapsed": false,
     "input": "import pandas as pd\nfrom time import gmtime, strftime, strptime, ctime\nfrom cPickle import load, dump\nfrom pprint import pprint\nfrom datetime import date\nfrom datetime import datetime",
     "language": "python",
     "metadata": {},
     "outputs": [],
     "prompt_number": 2
    },
    {
     "cell_type": "code",
     "collapsed": false,
     "input": "#Locate earthquake data of interest from the USGS website: http://earthquake.usgs.gov/earthquakes/feed/v1.0/geojson.php\n\nurl_45w = 'http://earthquake.usgs.gov/earthquakes/feed/v1.0/summary/4.5_week.geojson' # earthquake data of magnitude 4.5+ that's been updated in the past 7 days\nurl_1w = 'http://earthquake.usgs.gov/earthquakes/feed/v1.0/summary/1.0_week.geojson' # earthquake data of magnitude 1.0+ that's been updated in the past 7 days\nurl_1h = 'http://earthquake.usgs.gov/earthquakes/feed/v1.0/summary/1.0_hour.geojson' # earthquake data of magnitude 1.0+ that's been updated in the past hour\n\ndata = json.loads(urllib.urlopen(url_1w).read()) # earthquake data of magnitude 1.0+, week increment",
     "language": "python",
     "metadata": {},
     "outputs": [],
     "prompt_number": 3
    },
    {
     "cell_type": "heading",
     "level": 3,
     "metadata": {},
     "source": "step 2"
    },
    {
     "cell_type": "heading",
     "level": 4,
     "metadata": {},
     "source": "produce a dataframe of earthquake data"
    },
    {
     "cell_type": "code",
     "collapsed": false,
     "input": "dataframe = pd.DataFrame(data.items())\ndataframe",
     "language": "python",
     "metadata": {},
     "outputs": [
      {
       "html": "<div style=\"max-height:1000px;max-width:1500px;overflow:auto;\">\n<table border=\"1\" class=\"dataframe\">\n  <thead>\n    <tr style=\"text-align: right;\">\n      <th></th>\n      <th>0</th>\n      <th>1</th>\n    </tr>\n  </thead>\n  <tbody>\n    <tr>\n      <th>0</th>\n      <td>     type</td>\n      <td>                                 FeatureCollection</td>\n    </tr>\n    <tr>\n      <th>1</th>\n      <td> features</td>\n      <td> [{u'geometry': {u'type': u'Point', u'coordinat...</td>\n    </tr>\n    <tr>\n      <th>2</th>\n      <td>     bbox</td>\n      <td> [-179.4843, -56.6339, 0, 179.0595, 66.7659, 58...</td>\n    </tr>\n    <tr>\n      <th>3</th>\n      <td> metadata</td>\n      <td> {u'status': 200, u'count': 1063, u'title': u'U...</td>\n    </tr>\n  </tbody>\n</table>\n</div>",
       "output_type": "pyout",
       "prompt_number": 4,
       "text": "          0                                                  1\n0      type                                  FeatureCollection\n1  features  [{u'geometry': {u'type': u'Point', u'coordinat...\n2      bbox  [-179.4843, -56.6339, 0, 179.0595, 66.7659, 58...\n3  metadata  {u'status': 200, u'count': 1063, u'title': u'U..."
      }
     ],
     "prompt_number": 4
    },
    {
     "cell_type": "code",
     "collapsed": false,
     "input": "print dataframe",
     "language": "python",
     "metadata": {},
     "outputs": [
      {
       "output_type": "stream",
       "stream": "stdout",
       "text": "          0                                                  1\n0      type                                  FeatureCollection\n1  features  [{u'geometry': {u'type': u'Point', u'coordinat...\n2      bbox  [-179.4843, -56.6339, 0, 179.0595, 66.7659, 58...\n3  metadata  {u'status': 200, u'count': 1063, u'title': u'U...\n"
      }
     ],
     "prompt_number": 5
    },
    {
     "cell_type": "code",
     "collapsed": false,
     "input": "earthquakes = dataframe[1][1]\nanEarthquake = earthquakes[1]\nprint earthquakes[1]",
     "language": "python",
     "metadata": {},
     "outputs": [
      {
       "output_type": "stream",
       "stream": "stdout",
       "text": "{u'geometry': {u'type': u'Point', u'coordinates': [-151.3024, 61.3047, 58]}, u'type': u'Feature', u'properties': {u'rms': 0.46, u'code': u'10828024', u'cdi': None, u'sources': u',ak,', u'nst': None, u'tz': -480, u'title': u'M 1.0 - 68km N of Nikiski, Alaska', u'magType': u'Ml', u'detail': u'http://earthquake.usgs.gov/earthquakes/feed/v1.0/detail/ak10828024.geojson', u'sig': 15, u'net': u'ak', u'type': u'earthquake', u'status': u'AUTOMATIC', u'updated': 1382408782997, u'felt': None, u'alert': None, u'dmin': None, u'mag': 1, u'gap': None, u'types': u',general-link,geoserve,nearby-cities,origin,tectonic-summary,', u'url': u'http://earthquake.usgs.gov/earthquakes/eventpage/ak10828024', u'ids': u',ak10828024,', u'tsunami': None, u'place': u'68km N of Nikiski, Alaska', u'time': 1382408556000, u'mmi': None}, u'id': u'ak10828024'}\n"
      }
     ],
     "prompt_number": 6
    },
    {
     "cell_type": "code",
     "collapsed": false,
     "input": "srcList = []\neqid = []\nversion = []\ndateTime = []\n\nlatList = []\nlonList = []\n\nmagList = []\nnst = []\nregion = []\n\ndef usgsTimeExtraction(earthquake, humanReadable = True):\n    \"\"\"Takes in an earthquake (dictionary) and extracts the time from it, in seconds since the epoch (float)\"\"\"\n    time = earthquake['properties']['time']\n    if humanReadable:\n        return usgsTimeConversion(time)\n    return time\n\ndef usgsTimeConversion(time):\n    \"\"\"Takes in the seconds since the epoch (float) and returns a human readable time.\"\"\"\n    humanReadableTime = gmtime(float(str(time)[0:10]))\n    return strftime(\"%a %b %d %H:%M:%S %Y\", humanReadableTime)",
     "language": "python",
     "metadata": {},
     "outputs": [],
     "prompt_number": 7
    },
    {
     "cell_type": "code",
     "collapsed": false,
     "input": "print ctime()\nprint usgsTimeExtraction(anEarthquake)",
     "language": "python",
     "metadata": {},
     "outputs": [
      {
       "output_type": "stream",
       "stream": "stdout",
       "text": "Mon Oct 21 20:22:10 2013\nTue Oct 22 02:22:36 2013\n"
      }
     ],
     "prompt_number": 8
    },
    {
     "cell_type": "code",
     "collapsed": false,
     "input": "for earthquake in earthquakes:\n    srcList.append(earthquake['properties']['sources'])\n    eqid.append(earthquake['properties']['code'])\n    version.append(1)\n    dateTime.append(usgsTimeConversion(earthquake['properties']['time']))\n    latList.append(earthquake['geometry']['coordinates'][0])\n    lonList.append(earthquake['geometry']['coordinates'][1])\n    magList.append(earthquake['properties']['mag'])\n    nst.append(earthquake['properties']['nst'])\n    region.append(earthquake['properties']['place'])\n\nearthquakeData = {'Source': srcList, 'Eqid': eqid, 'Version': version, 'Datetime': dateTime, 'Lat': latList, 'Lon': lonList, 'Magnitude': magList, 'NST': nst, 'Region': region}",
     "language": "python",
     "metadata": {},
     "outputs": [],
     "prompt_number": 12
    },
    {
     "cell_type": "code",
     "collapsed": false,
     "input": "now = datetime.now()\ntimeStr = str(now.hour) + \":\" + str(now.minute) + \":\" + str(now.second)\ntimeZone = 'PST'\nname = 'earthquakeData'+ \"_\" + str(date.today()) + \"_\" + timeStr + \"_\" + timeZone + '.dict'\n\nprint timeStr\nprint timeZone\nprint name",
     "language": "python",
     "metadata": {},
     "outputs": [
      {
       "output_type": "stream",
       "stream": "stdout",
       "text": "20:22:57\nPST\nearthquakeData_2013-10-21_20:22:57_PST.dict\n"
      }
     ],
     "prompt_number": 13
    },
    {
     "cell_type": "code",
     "collapsed": false,
     "input": "with open(name, 'wb') as f:\n    dump(earthquakeData, f)",
     "language": "python",
     "metadata": {},
     "outputs": [],
     "prompt_number": 14
    },
    {
     "cell_type": "code",
     "collapsed": false,
     "input": "with open(name, 'rb') as f:\n    earthquakeData = load(f)",
     "language": "python",
     "metadata": {},
     "outputs": [],
     "prompt_number": 15
    },
    {
     "cell_type": "code",
     "collapsed": false,
     "input": "earthquakeData_dataframe = pd.DataFrame(earthquakeData)",
     "language": "python",
     "metadata": {},
     "outputs": [],
     "prompt_number": 16
    },
    {
     "cell_type": "code",
     "collapsed": false,
     "input": "earthquakeData_dataframe[0:10]",
     "language": "python",
     "metadata": {},
     "outputs": [
      {
       "html": "<div style=\"max-height:1000px;max-width:1500px;overflow:auto;\">\n<table border=\"1\" class=\"dataframe\">\n  <thead>\n    <tr style=\"text-align: right;\">\n      <th></th>\n      <th>Datetime</th>\n      <th>Eqid</th>\n      <th>Lat</th>\n      <th>Lon</th>\n      <th>Magnitude</th>\n      <th>NST</th>\n      <th>Region</th>\n      <th>Source</th>\n      <th>Version</th>\n    </tr>\n  </thead>\n  <tbody>\n    <tr>\n      <th>0</th>\n      <td> Tue Oct 22 02:31:34 2013</td>\n      <td> 10828028</td>\n      <td>-147.6322</td>\n      <td> 63.4380</td>\n      <td> 2.4</td>\n      <td>NaN</td>\n      <td>          66km E of Cantwell, Alaska</td>\n      <td> ,ak,</td>\n      <td> 1</td>\n    </tr>\n    <tr>\n      <th>1</th>\n      <td> Tue Oct 22 02:22:36 2013</td>\n      <td> 10828024</td>\n      <td>-151.3024</td>\n      <td> 61.3047</td>\n      <td> 1.0</td>\n      <td>NaN</td>\n      <td>           68km N of Nikiski, Alaska</td>\n      <td> ,ak,</td>\n      <td> 1</td>\n    </tr>\n    <tr>\n      <th>2</th>\n      <td> Tue Oct 22 02:08:49 2013</td>\n      <td> 11381914</td>\n      <td>-116.4417</td>\n      <td> 34.2483</td>\n      <td> 1.3</td>\n      <td> 12</td>\n      <td>  14km N of Yucca Valley, California</td>\n      <td> ,ci,</td>\n      <td> 1</td>\n    </tr>\n    <tr>\n      <th>3</th>\n      <td> Tue Oct 22 01:55:55 2013</td>\n      <td> 11381906</td>\n      <td>-116.0695</td>\n      <td> 33.1400</td>\n      <td> 1.4</td>\n      <td> 26</td>\n      <td> 20km SSW of Salton City, California</td>\n      <td> ,ci,</td>\n      <td> 1</td>\n    </tr>\n    <tr>\n      <th>4</th>\n      <td> Tue Oct 22 01:53:51 2013</td>\n      <td> 72092596</td>\n      <td>-123.0645</td>\n      <td> 39.5972</td>\n      <td> 1.5</td>\n      <td>NaN</td>\n      <td>       26km SE of Covelo, California</td>\n      <td> ,nc,</td>\n      <td> 1</td>\n    </tr>\n    <tr>\n      <th>5</th>\n      <td> Tue Oct 22 01:35:56 2013</td>\n      <td> 11381898</td>\n      <td>-115.5213</td>\n      <td> 32.9497</td>\n      <td> 2.2</td>\n      <td> 30</td>\n      <td>      3km SSE of Brawley, California</td>\n      <td> ,ci,</td>\n      <td> 1</td>\n    </tr>\n    <tr>\n      <th>6</th>\n      <td> Tue Oct 22 01:31:08 2013</td>\n      <td> 10828014</td>\n      <td>-149.6052</td>\n      <td> 62.1323</td>\n      <td> 1.2</td>\n      <td>NaN</td>\n      <td>               13km ESE of Y, Alaska</td>\n      <td> ,ak,</td>\n      <td> 1</td>\n    </tr>\n    <tr>\n      <th>7</th>\n      <td> Tue Oct 22 01:26:50 2013</td>\n      <td> 10828009</td>\n      <td>-152.3915</td>\n      <td> 62.3700</td>\n      <td> 2.3</td>\n      <td>NaN</td>\n      <td>        118km W of Talkeetna, Alaska</td>\n      <td> ,ak,</td>\n      <td> 1</td>\n    </tr>\n    <tr>\n      <th>8</th>\n      <td> Tue Oct 22 01:18:47 2013</td>\n      <td> b000ki87</td>\n      <td> 141.9259</td>\n      <td> 37.7049</td>\n      <td> 5.3</td>\n      <td>NaN</td>\n      <td>            85km ENE of Namie, Japan</td>\n      <td> ,us,</td>\n      <td> 1</td>\n    </tr>\n    <tr>\n      <th>9</th>\n      <td> Tue Oct 22 01:03:28 2013</td>\n      <td> 60580306</td>\n      <td>-155.1375</td>\n      <td> 19.3153</td>\n      <td> 2.4</td>\n      <td>NaN</td>\n      <td>          16km SE of Volcano, Hawaii</td>\n      <td> ,hv,</td>\n      <td> 1</td>\n    </tr>\n  </tbody>\n</table>\n</div>",
       "output_type": "pyout",
       "prompt_number": 17,
       "text": "                   Datetime      Eqid       Lat      Lon  Magnitude  NST  \\\n0  Tue Oct 22 02:31:34 2013  10828028 -147.6322  63.4380        2.4  NaN   \n1  Tue Oct 22 02:22:36 2013  10828024 -151.3024  61.3047        1.0  NaN   \n2  Tue Oct 22 02:08:49 2013  11381914 -116.4417  34.2483        1.3   12   \n3  Tue Oct 22 01:55:55 2013  11381906 -116.0695  33.1400        1.4   26   \n4  Tue Oct 22 01:53:51 2013  72092596 -123.0645  39.5972        1.5  NaN   \n5  Tue Oct 22 01:35:56 2013  11381898 -115.5213  32.9497        2.2   30   \n6  Tue Oct 22 01:31:08 2013  10828014 -149.6052  62.1323        1.2  NaN   \n7  Tue Oct 22 01:26:50 2013  10828009 -152.3915  62.3700        2.3  NaN   \n8  Tue Oct 22 01:18:47 2013  b000ki87  141.9259  37.7049        5.3  NaN   \n9  Tue Oct 22 01:03:28 2013  60580306 -155.1375  19.3153        2.4  NaN   \n\n                                Region Source  Version  \n0           66km E of Cantwell, Alaska   ,ak,        1  \n1            68km N of Nikiski, Alaska   ,ak,        1  \n2   14km N of Yucca Valley, California   ,ci,        1  \n3  20km SSW of Salton City, California   ,ci,        1  \n4        26km SE of Covelo, California   ,nc,        1  \n5       3km SSE of Brawley, California   ,ci,        1  \n6                13km ESE of Y, Alaska   ,ak,        1  \n7         118km W of Talkeetna, Alaska   ,ak,        1  \n8             85km ENE of Namie, Japan   ,us,        1  \n9           16km SE of Volcano, Hawaii   ,hv,        1  "
      }
     ],
     "prompt_number": 17
    },
    {
     "cell_type": "heading",
     "level": 3,
     "metadata": {},
     "source": "step 3"
    },
    {
     "cell_type": "heading",
     "level": 4,
     "metadata": {},
     "source": "visualizations"
    },
    {
     "cell_type": "code",
     "collapsed": false,
     "input": "",
     "language": "python",
     "metadata": {},
     "outputs": []
    }
   ],
   "metadata": {}
  }
 ]
}