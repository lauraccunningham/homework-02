{
 "metadata": {
  "name": "data"
 },
 "nbformat": 3,
 "nbformat_minor": 0,
 "worksheets": [
  {
   "cells": [
    {
     "cell_type": "heading",
     "level": 2,
     "metadata": {},
     "source": [
      "homework-02: recent-quakes"
     ]
    },
    {
     "cell_type": "heading",
     "level": 3,
     "metadata": {},
     "source": [
      "step 1"
     ]
    },
    {
     "cell_type": "heading",
     "level": 4,
     "metadata": {},
     "source": [
      "import packages and earthquake data"
     ]
    },
    {
     "cell_type": "code",
     "collapsed": false,
<<<<<<< HEAD
     "input": [
      "import urllib\n",
      "import json\n",
      "from pandas import read_csv\n",
      "import pandas as pd\n",
      "from time import gmtime, strftime, strptime, ctime\n",
      "from cPickle import load, dump\n",
      "from pprint import pprint\n",
      "from datetime import date\n",
      "from datetime import datetime"
     ],
     "language": "python",
     "metadata": {},
     "outputs": [],
     "prompt_number": 1
=======
     "input": "import urllib\nimport json\nfrom pandas import read_csv",
     "language": "python",
     "metadata": {},
     "outputs": [],
     "prompt_number": 1
    },
    {
     "cell_type": "code",
     "collapsed": false,
     "input": "import pandas as pd\nfrom time import gmtime, strftime, strptime, ctime\nfrom cPickle import load, dump\nfrom pprint import pprint\nfrom datetime import date\nfrom datetime import datetime",
     "language": "python",
     "metadata": {},
     "outputs": [],
     "prompt_number": 2
>>>>>>> c2775435805917af20fb79bf7f8315d31e9a21f9
    },
    {
     "cell_type": "code",
     "collapsed": false,
<<<<<<< HEAD
     "input": [
      "#Locate earthquake data of interest from the USGS website: http://earthquake.usgs.gov/earthquakes/feed/v1.0/geojson.php\n",
      "\n",
      "\n",
      "URL_45_WEEK = 'http://earthquake.usgs.gov/earthquakes/feed/v1.0/summary/4.5_week.geojson' # earthquake data of magnitude 4.5+ that's been updated in the past 7 days\n",
      "URL_1_WEEK = 'http://earthquake.usgs.gov/earthquakes/feed/v1.0/summary/1.0_week.geojson' # earthquake data of magnitude 1.0+ that's been updated in the past 7 days\n",
      "URL_1_HOUR = 'http://earthquake.usgs.gov/earthquakes/feed/v1.0/summary/1.0_hour.geojson' # earthquake data of magnitude 1.0+ that's been updated in the past hour\n",
      "\n",
      "def getEarthquakeFilename():\n",
      "    now = datetime.now()\n",
      "    timeStr = str(now.hour) + \":\" + str(now.minute) + \":\" + str(now.second)\n",
      "    timeZone = 'PST'\n",
      "    name = 'earthquakeData'+ \"_\" + str(date.today()) + \"_\" + timeStr + \"_\" + timeZone + '.dict'\n",
      "    return name\n",
      "\n",
      "def usgsTimeExtraction(earthquake, humanReadable = True):\n",
      "    \"\"\"Takes in an earthquake (dictionary) and extracts the time from it, in seconds since the epoch (float)\"\"\"\n",
      "    time = earthquake['properties']['time']\n",
      "    if humanReadable:\n",
      "        return usgsTimeConversion(time)\n",
      "    return time\n",
      "\n",
      "def usgsTimeConversion(time):\n",
      "    \"\"\"Takes in the seconds since the epoch (float) and returns a human readable time.\"\"\"\n",
      "    humanReadableTime = gmtime(float(str(time)[0:10]))\n",
      "    return strftime(\"%a %b %d %H:%M:%S %Y\", humanReadableTime)\n",
      "\n",
      "def getEarthquakeDataframe(fileLocation = None, isUrl = True, save = False):\n",
      "    \"\"\"Get earthquake JSON from FILELOCATION, depending on if it ISURL, and can SAVE data as pickle if data is live.\n",
      "    Defaults to magnitude 1+ earthquakes in last week.\"\"\"\n",
      "    if fileLocation is None:\n",
      "        isUrl = True\n",
      "        fileLocation = URL_1_WEEK\n",
      "    if isUrl:\n",
      "        print fileLocation\n",
      "        earthquakeJson = json.loads(urllib.urlopen(URL_1_WEEK).read())\n",
      "        if save:\n",
      "            with open(getEarthquakeFilename(), 'wb') as filename:\n",
      "                dump(earthquakeJson, filename)\n",
      "    else:\n",
      "        with open(fileLocation, 'rb') as filename:\n",
      "            earthquakeJson = load(filename)    \n",
      "    earthquakeDataframe = pd.DataFrame(earthquakeJson.items())\n",
      "\n",
      "    earthquakes = earthquakeDataframe[1][1]\n",
      "    srcList = []\n",
      "    eqidList = []\n",
      "    versionList = []\n",
      "    dateTimeList = []\n",
      "    latList = []\n",
      "    lonList = []\n",
      "    magList = []\n",
      "    nstList = []\n",
      "    regionList = []\n",
      "\n",
      "    for earthquake in earthquakes:\n",
      "        srcList.append(earthquake['properties']['sources'])\n",
      "        eqidList.append(earthquake['properties']['code'])\n",
      "        versionList.append(1)\n",
      "        dateTimeList.append(usgsTimeConversion(earthquake['properties']['time']))\n",
      "        latList.append(earthquake['geometry']['coordinates'][1])\n",
      "        lonList.append(earthquake['geometry']['coordinates'][0])\n",
      "        magList.append(earthquake['properties']['mag'])\n",
      "        nstList.append(earthquake['properties']['nst'])\n",
      "        regionList.append(earthquake['properties']['place'])\n",
      "\n",
      "    reducedEarthquakeData = {\n",
      "        'Source': srcList,\n",
      "        'Eqid': eqidList,\n",
      "        'Version': versionList,\n",
      "        'Datetime': dateTimeList,\n",
      "        'Lat': latList,\n",
      "        'Lon': lonList,\n",
      "        'Magnitude': magList,\n",
      "        'NST': nstList,\n",
      "        'Region': regionList\n",
      "    }\n",
      "    reducedEarthquakeDataframe = pd.DataFrame(reducedEarthquakeData)\n",
      "    return reducedEarthquakeDataframe\n"
     ],
     "language": "python",
     "metadata": {},
     "outputs": [],
     "prompt_number": 2
=======
     "input": "#Locate earthquake data of interest from the USGS website: http://earthquake.usgs.gov/earthquakes/feed/v1.0/geojson.php\n\nurl_45w = 'http://earthquake.usgs.gov/earthquakes/feed/v1.0/summary/4.5_week.geojson' # earthquake data of magnitude 4.5+ that's been updated in the past 7 days\nurl_1w = 'http://earthquake.usgs.gov/earthquakes/feed/v1.0/summary/1.0_week.geojson' # earthquake data of magnitude 1.0+ that's been updated in the past 7 days\nurl_1h = 'http://earthquake.usgs.gov/earthquakes/feed/v1.0/summary/1.0_hour.geojson' # earthquake data of magnitude 1.0+ that's been updated in the past hour\n\ndata = json.loads(urllib.urlopen(url_1w).read()) # earthquake data of magnitude 1.0+, week increment",
     "language": "python",
     "metadata": {},
     "outputs": [],
     "prompt_number": 3
>>>>>>> c2775435805917af20fb79bf7f8315d31e9a21f9
    },
    {
     "cell_type": "heading",
     "level": 3,
     "metadata": {},
     "source": [
      "step 3"
     ]
    },
    {
     "cell_type": "heading",
     "level": 4,
     "metadata": {},
<<<<<<< HEAD
     "source": [
      "visualizations"
     ]
    },
    {
     "cell_type": "heading",
     "level": 4,
     "metadata": {},
     "source": [
      "*** these are other people's - to be seen as examples of what can be done, not what we are doing exactly.  you both should fix something interesting that maps the depth, magnitude, and location of the these earthquakes. maybe we can make darker colored dots for deeper quakes and larger dots for higher magnitude placed on a state map. ***"
     ]
=======
     "source": "produce a dataframe of earthquake data"
    },
    {
     "cell_type": "code",
     "collapsed": false,
     "input": "dataframe = pd.DataFrame(data.items())\ndataframe",
     "language": "python",
     "metadata": {},
     "outputs": [
      {
       "html": "<div style=\"max-height:1000px;max-width:1500px;overflow:auto;\">\n<table border=\"1\" class=\"dataframe\">\n  <thead>\n    <tr style=\"text-align: right;\">\n      <th></th>\n      <th>0</th>\n      <th>1</th>\n    </tr>\n  </thead>\n  <tbody>\n    <tr>\n      <th>0</th>\n      <td>     type</td>\n      <td>                                 FeatureCollection</td>\n    </tr>\n    <tr>\n      <th>1</th>\n      <td> features</td>\n      <td> [{u'geometry': {u'type': u'Point', u'coordinat...</td>\n    </tr>\n    <tr>\n      <th>2</th>\n      <td>     bbox</td>\n      <td> [-179.4843, -56.6339, 0, 179.0595, 66.7659, 58...</td>\n    </tr>\n    <tr>\n      <th>3</th>\n      <td> metadata</td>\n      <td> {u'status': 200, u'count': 1063, u'title': u'U...</td>\n    </tr>\n  </tbody>\n</table>\n</div>",
       "output_type": "pyout",
       "prompt_number": 4,
       "text": "          0                                                  1\n0      type                                  FeatureCollection\n1  features  [{u'geometry': {u'type': u'Point', u'coordinat...\n2      bbox  [-179.4843, -56.6339, 0, 179.0595, 66.7659, 58...\n3  metadata  {u'status': 200, u'count': 1063, u'title': u'U..."
      }
     ],
     "prompt_number": 4
    },
    {
     "cell_type": "code",
     "collapsed": false,
     "input": "print dataframe",
     "language": "python",
     "metadata": {},
     "outputs": [
      {
       "output_type": "stream",
       "stream": "stdout",
       "text": "          0                                                  1\n0      type                                  FeatureCollection\n1  features  [{u'geometry': {u'type': u'Point', u'coordinat...\n2      bbox  [-179.4843, -56.6339, 0, 179.0595, 66.7659, 58...\n3  metadata  {u'status': 200, u'count': 1063, u'title': u'U...\n"
      }
     ],
     "prompt_number": 5
    },
    {
     "cell_type": "code",
     "collapsed": false,
     "input": "earthquakes = dataframe[1][1]\nanEarthquake = earthquakes[1]\nprint earthquakes[1]",
     "language": "python",
     "metadata": {},
     "outputs": [
      {
       "output_type": "stream",
       "stream": "stdout",
       "text": "{u'geometry': {u'type': u'Point', u'coordinates': [-151.3024, 61.3047, 58]}, u'type': u'Feature', u'properties': {u'rms': 0.46, u'code': u'10828024', u'cdi': None, u'sources': u',ak,', u'nst': None, u'tz': -480, u'title': u'M 1.0 - 68km N of Nikiski, Alaska', u'magType': u'Ml', u'detail': u'http://earthquake.usgs.gov/earthquakes/feed/v1.0/detail/ak10828024.geojson', u'sig': 15, u'net': u'ak', u'type': u'earthquake', u'status': u'AUTOMATIC', u'updated': 1382408782997, u'felt': None, u'alert': None, u'dmin': None, u'mag': 1, u'gap': None, u'types': u',general-link,geoserve,nearby-cities,origin,tectonic-summary,', u'url': u'http://earthquake.usgs.gov/earthquakes/eventpage/ak10828024', u'ids': u',ak10828024,', u'tsunami': None, u'place': u'68km N of Nikiski, Alaska', u'time': 1382408556000, u'mmi': None}, u'id': u'ak10828024'}\n"
      }
     ],
     "prompt_number": 6
>>>>>>> c2775435805917af20fb79bf7f8315d31e9a21f9
    },
    {
     "cell_type": "heading",
     "level": 5,
     "metadata": {},
<<<<<<< HEAD
     "source": [
      "a. group #2's mapping program"
     ]
=======
     "outputs": [],
     "prompt_number": 7
>>>>>>> c2775435805917af20fb79bf7f8315d31e9a21f9
    },
    {
     "cell_type": "code",
     "collapsed": false,
<<<<<<< HEAD
     "input": [
      "# Now let's just focus on earthquakes in Alaska (my home state! :)\n",
      "\n",
      "# <codecell>\n",
      "earthquakeDataframe = getEarthquakeDataframe()"
     ],
=======
     "input": "print ctime()\nprint usgsTimeExtraction(anEarthquake)",
     "language": "python",
     "metadata": {},
     "outputs": [
      {
       "output_type": "stream",
       "stream": "stdout",
       "text": "Mon Oct 21 20:22:10 2013\nTue Oct 22 02:22:36 2013\n"
      }
     ],
     "prompt_number": 8
    },
    {
     "cell_type": "code",
     "collapsed": false,
     "input": "for earthquake in earthquakes:\n    srcList.append(earthquake['properties']['sources'])\n    eqid.append(earthquake['properties']['code'])\n    version.append(1)\n    dateTime.append(usgsTimeConversion(earthquake['properties']['time']))\n    latList.append(earthquake['geometry']['coordinates'][0])\n    lonList.append(earthquake['geometry']['coordinates'][1])\n    magList.append(earthquake['properties']['mag'])\n    nst.append(earthquake['properties']['nst'])\n    region.append(earthquake['properties']['place'])\n\nearthquakeData = {'Source': srcList, 'Eqid': eqid, 'Version': version, 'Datetime': dateTime, 'Lat': latList, 'Lon': lonList, 'Magnitude': magList, 'NST': nst, 'Region': region}",
     "language": "python",
     "metadata": {},
     "outputs": [],
     "prompt_number": 12
    },
    {
     "cell_type": "code",
     "collapsed": false,
     "input": "now = datetime.now()\ntimeStr = str(now.hour) + \":\" + str(now.minute) + \":\" + str(now.second)\ntimeZone = 'PST'\nname = 'earthquakeData'+ \"_\" + str(date.today()) + \"_\" + timeStr + \"_\" + timeZone + '.dict'\n\nprint timeStr\nprint timeZone\nprint name",
>>>>>>> c2775435805917af20fb79bf7f8315d31e9a21f9
     "language": "python",
     "metadata": {},
     "outputs": [
      {
       "output_type": "stream",
       "stream": "stdout",
<<<<<<< HEAD
       "text": [
        "http://earthquake.usgs.gov/earthquakes/feed/v1.0/summary/1.0_week.geojson\n"
       ]
      }
     ],
     "prompt_number": 3
=======
       "text": "20:22:57\nPST\nearthquakeData_2013-10-21_20:22:57_PST.dict\n"
      }
     ],
     "prompt_number": 13
>>>>>>> c2775435805917af20fb79bf7f8315d31e9a21f9
    },
    {
     "cell_type": "code",
     "collapsed": false,
<<<<<<< HEAD
     "input": [
      "def getEarthquakesFromLocation(earthquakeDataframe, region = \"California\"):\n",
      "    \"\"\"When you enter a city or state into this function, it will output a data frame containing that region\"\"\"\n",
      "    regionQuakes = earthquakeDataframe[earthquakeDataframe.Region.str.contains(region)]\n",
      "    return regionQuakes\n",
      "\n",
      "alaskaQuakes = getEarthquakesFromLocation(earthquakeDataframe, \"Alaska\")\n",
      "caliQuakes = getEarthquakesFromLocation(earthquakeDataframe)"
     ],
     "language": "python",
     "metadata": {},
     "outputs": [],
     "prompt_number": 4
=======
     "input": "with open(name, 'wb') as f:\n    dump(earthquakeData, f)",
     "language": "python",
     "metadata": {},
     "outputs": [],
     "prompt_number": 14
    },
    {
     "cell_type": "code",
     "collapsed": false,
     "input": "with open(name, 'rb') as f:\n    earthquakeData = load(f)",
     "language": "python",
     "metadata": {},
     "outputs": [],
     "prompt_number": 15
>>>>>>> c2775435805917af20fb79bf7f8315d31e9a21f9
    },
    {
     "cell_type": "code",
     "collapsed": false,
<<<<<<< HEAD
     "input": [
      "# <codecell>\n",
      "\n",
      "from mpl_toolkits.basemap import Basemap\n",
      "\n",
      "ALASKA_DISPLAY = {\n",
      "                     'regionName' : \"Alaska\",\n",
      "                     'llcrnrlon' : -180,\n",
      "                     'llcrnrlat' : 50.,\n",
      "                     'urcrnrlon' : -120.,\n",
      "                     'urcrnrlat' : 72,\n",
      "                     'resolution' : 'l',\n",
      "                     'area_thresh' : 1000.,\n",
      "                     'projection' : 'merc',\n",
      "                     'lat_0' : 62.9540,\n",
      "                     'lon_0' : -149.2697\n",
      "                }\n",
      "\n",
      "CALI_DISPLAY = {\n",
      "                     'regionName' : \"California\",\n",
      "                     'llcrnrlon' : -130,\n",
      "                     'llcrnrlat' : 30.,\n",
      "                     'urcrnrlon' : -110.,\n",
      "                     'urcrnrlat' : 45,\n",
      "                     'resolution' : 'l',\n",
      "                     'area_thresh' : 1000.,\n",
      "                     'projection' : 'merc',\n",
      "                     'lat_0' : 36.1700,\n",
      "                     'lon_0' : -119.7462\n",
      "                }\n",
      "\n",
      "StateParams = {\n",
      "                   'Alaska' : ALASKA_DISPLAY,\n",
      "                   'California' : CALI_DISPLAY\n",
      "               }\n",
      "EARTHQUAKE_DISPLAY_PARAM_FILE = 'earthquake_display_param_file.json'\n",
      "\n",
      "def plot_quakes(quakes, display):\n",
      "    \"\"\"Plot QUAKES dataframe from the dictionary with DISPLAY parameters\"\"\"\n",
      "  #  with open(EARTHQUAKE_DISPLAY_PARAM_FILE, 'rb') as filename:\n",
      "  #      earthquakeDisplayParamDict = load(filename)\n",
      "  #  if isinstance(display, str):\n",
      "  #      displayParams = earthquakeDisplayParamDict[display]\n",
      "  #  else:\n",
      "    displayParams = display\n",
      "   #     earthquakeDisplayParamDict[display['regionName']] = display\n",
      "   #     with open(getEarthquakeFilename(), 'wb') as filename:\n",
      "   #         dump(earthquakeJson, filename)\n",
      "            \n",
      "    m = Basemap(llcrnrlon=displayParams['llcrnrlon'],\n",
      "                llcrnrlat=displayParams['llcrnrlat'],\n",
      "                urcrnrlon=displayParams['urcrnrlon'],\n",
      "                urcrnrlat=displayParams['urcrnrlat'],\n",
      "                resolution=displayParams['resolution'],\n",
      "                area_thresh=displayParams['area_thresh'],\n",
      "                projection=displayParams['projection'],\n",
      "                lat_0=display['lat_0'],\n",
      "                lon_0=display['lon_0'])\n",
      "    m.drawcoastlines()\n",
      "    m.drawcountries()\n",
      "    m.fillcontinents(color='coral',lake_color='blue')\n",
      "    m.drawmapboundary(fill_color='aqua')\n",
      "    x, y = m(quakes.Lon, quakes.Lat)\n",
      "    for lon, lat, size in zip(x, y, quakes.Magnitude):\n",
      "        m.plot(lon, lat, 'go', linewidth = size)\n",
      "    return m\n",
      "\n",
      "plot_quakes(caliQuakes, CALI_DISPLAY)"
     ],
     "language": "python",
     "metadata": {},
     "outputs": [
      {
       "output_type": "pyout",
       "prompt_number": 7,
       "text": [
        "<mpl_toolkits.basemap.Basemap at 0x3071fd0>"
       ]
      },
      {
       "output_type": "display_data",
       "png": "iVBORw0KGgoAAAANSUhEUgAAAPkAAADtCAYAAAB9CNMdAAAABHNCSVQICAgIfAhkiAAAAAlwSFlz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\nP0dELgj9HBG5IPRzROSC0M/5/9eT1esmt008AAAAAElFTkSuQmCC\n"
      }
     ],
     "prompt_number": 7
=======
     "input": "earthquakeData_dataframe = pd.DataFrame(earthquakeData)",
     "language": "python",
     "metadata": {},
     "outputs": [],
     "prompt_number": 16
    },
    {
     "cell_type": "code",
     "collapsed": false,
     "input": "earthquakeData_dataframe[0:10]",
     "language": "python",
     "metadata": {},
     "outputs": [
      {
       "html": "<div style=\"max-height:1000px;max-width:1500px;overflow:auto;\">\n<table border=\"1\" class=\"dataframe\">\n  <thead>\n    <tr style=\"text-align: right;\">\n      <th></th>\n      <th>Datetime</th>\n      <th>Eqid</th>\n      <th>Lat</th>\n      <th>Lon</th>\n      <th>Magnitude</th>\n      <th>NST</th>\n      <th>Region</th>\n      <th>Source</th>\n      <th>Version</th>\n    </tr>\n  </thead>\n  <tbody>\n    <tr>\n      <th>0</th>\n      <td> Tue Oct 22 02:31:34 2013</td>\n      <td> 10828028</td>\n      <td>-147.6322</td>\n      <td> 63.4380</td>\n      <td> 2.4</td>\n      <td>NaN</td>\n      <td>          66km E of Cantwell, Alaska</td>\n      <td> ,ak,</td>\n      <td> 1</td>\n    </tr>\n    <tr>\n      <th>1</th>\n      <td> Tue Oct 22 02:22:36 2013</td>\n      <td> 10828024</td>\n      <td>-151.3024</td>\n      <td> 61.3047</td>\n      <td> 1.0</td>\n      <td>NaN</td>\n      <td>           68km N of Nikiski, Alaska</td>\n      <td> ,ak,</td>\n      <td> 1</td>\n    </tr>\n    <tr>\n      <th>2</th>\n      <td> Tue Oct 22 02:08:49 2013</td>\n      <td> 11381914</td>\n      <td>-116.4417</td>\n      <td> 34.2483</td>\n      <td> 1.3</td>\n      <td> 12</td>\n      <td>  14km N of Yucca Valley, California</td>\n      <td> ,ci,</td>\n      <td> 1</td>\n    </tr>\n    <tr>\n      <th>3</th>\n      <td> Tue Oct 22 01:55:55 2013</td>\n      <td> 11381906</td>\n      <td>-116.0695</td>\n      <td> 33.1400</td>\n      <td> 1.4</td>\n      <td> 26</td>\n      <td> 20km SSW of Salton City, California</td>\n      <td> ,ci,</td>\n      <td> 1</td>\n    </tr>\n    <tr>\n      <th>4</th>\n      <td> Tue Oct 22 01:53:51 2013</td>\n      <td> 72092596</td>\n      <td>-123.0645</td>\n      <td> 39.5972</td>\n      <td> 1.5</td>\n      <td>NaN</td>\n      <td>       26km SE of Covelo, California</td>\n      <td> ,nc,</td>\n      <td> 1</td>\n    </tr>\n    <tr>\n      <th>5</th>\n      <td> Tue Oct 22 01:35:56 2013</td>\n      <td> 11381898</td>\n      <td>-115.5213</td>\n      <td> 32.9497</td>\n      <td> 2.2</td>\n      <td> 30</td>\n      <td>      3km SSE of Brawley, California</td>\n      <td> ,ci,</td>\n      <td> 1</td>\n    </tr>\n    <tr>\n      <th>6</th>\n      <td> Tue Oct 22 01:31:08 2013</td>\n      <td> 10828014</td>\n      <td>-149.6052</td>\n      <td> 62.1323</td>\n      <td> 1.2</td>\n      <td>NaN</td>\n      <td>               13km ESE of Y, Alaska</td>\n      <td> ,ak,</td>\n      <td> 1</td>\n    </tr>\n    <tr>\n      <th>7</th>\n      <td> Tue Oct 22 01:26:50 2013</td>\n      <td> 10828009</td>\n      <td>-152.3915</td>\n      <td> 62.3700</td>\n      <td> 2.3</td>\n      <td>NaN</td>\n      <td>        118km W of Talkeetna, Alaska</td>\n      <td> ,ak,</td>\n      <td> 1</td>\n    </tr>\n    <tr>\n      <th>8</th>\n      <td> Tue Oct 22 01:18:47 2013</td>\n      <td> b000ki87</td>\n      <td> 141.9259</td>\n      <td> 37.7049</td>\n      <td> 5.3</td>\n      <td>NaN</td>\n      <td>            85km ENE of Namie, Japan</td>\n      <td> ,us,</td>\n      <td> 1</td>\n    </tr>\n    <tr>\n      <th>9</th>\n      <td> Tue Oct 22 01:03:28 2013</td>\n      <td> 60580306</td>\n      <td>-155.1375</td>\n      <td> 19.3153</td>\n      <td> 2.4</td>\n      <td>NaN</td>\n      <td>          16km SE of Volcano, Hawaii</td>\n      <td> ,hv,</td>\n      <td> 1</td>\n    </tr>\n  </tbody>\n</table>\n</div>",
       "output_type": "pyout",
       "prompt_number": 17,
       "text": "                   Datetime      Eqid       Lat      Lon  Magnitude  NST  \\\n0  Tue Oct 22 02:31:34 2013  10828028 -147.6322  63.4380        2.4  NaN   \n1  Tue Oct 22 02:22:36 2013  10828024 -151.3024  61.3047        1.0  NaN   \n2  Tue Oct 22 02:08:49 2013  11381914 -116.4417  34.2483        1.3   12   \n3  Tue Oct 22 01:55:55 2013  11381906 -116.0695  33.1400        1.4   26   \n4  Tue Oct 22 01:53:51 2013  72092596 -123.0645  39.5972        1.5  NaN   \n5  Tue Oct 22 01:35:56 2013  11381898 -115.5213  32.9497        2.2   30   \n6  Tue Oct 22 01:31:08 2013  10828014 -149.6052  62.1323        1.2  NaN   \n7  Tue Oct 22 01:26:50 2013  10828009 -152.3915  62.3700        2.3  NaN   \n8  Tue Oct 22 01:18:47 2013  b000ki87  141.9259  37.7049        5.3  NaN   \n9  Tue Oct 22 01:03:28 2013  60580306 -155.1375  19.3153        2.4  NaN   \n\n                                Region Source  Version  \n0           66km E of Cantwell, Alaska   ,ak,        1  \n1            68km N of Nikiski, Alaska   ,ak,        1  \n2   14km N of Yucca Valley, California   ,ci,        1  \n3  20km SSW of Salton City, California   ,ci,        1  \n4        26km SE of Covelo, California   ,nc,        1  \n5       3km SSE of Brawley, California   ,ci,        1  \n6                13km ESE of Y, Alaska   ,ak,        1  \n7         118km W of Talkeetna, Alaska   ,ak,        1  \n8             85km ENE of Namie, Japan   ,us,        1  \n9           16km SE of Volcano, Hawaii   ,hv,        1  "
      }
     ],
     "prompt_number": 17
    },
    {
     "cell_type": "heading",
     "level": 3,
     "metadata": {},
     "source": "step 3"
    },
    {
     "cell_type": "heading",
     "level": 4,
     "metadata": {},
     "source": "visualizations"
>>>>>>> c2775435805917af20fb79bf7f8315d31e9a21f9
    },
    {
     "cell_type": "code",
     "collapsed": false,
     "input": [],
     "language": "python",
     "metadata": {},
     "outputs": []
    }
   ],
   "metadata": {}
  }
 ]
}